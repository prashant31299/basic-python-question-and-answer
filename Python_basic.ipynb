{
 "cells": [
  {
   "cell_type": "markdown",
   "source": [
    "Python Basic Exercise for Beginners\r\n",
    "This Python essential exercise is to help Python beginners to learn necessary Python skills quickly. Practice Python Basic Concepts such as Loops, Control structure, List, Strings, input-output, and built-in functions"
   ],
   "metadata": {}
  },
  {
   "cell_type": "code",
   "execution_count": 4,
   "source": [
    "#Exercise 1: Given two integer numbers return their product. \r\n",
    "# If the product is greater than 1000, then return their sum\r\n",
    "def num(num1, num2):\r\n",
    "    product = num1 * num2\r\n",
    "    if product <=1000:\r\n",
    "        return product\r\n",
    "    else:\r\n",
    "        sum= num1 +num2\r\n",
    "        return sum\r\n",
    "\r\n",
    "result = num(40,50)\r\n",
    "print(result)\r\n",
    "\r\n",
    "result = num(20,31)\r\n",
    "print(result)\r\n",
    "\r\n",
    "result = num(50,50)\r\n",
    "print(result)\r\n",
    "     \r\n",
    "\r\n",
    "    \r\n"
   ],
   "outputs": [
    {
     "output_type": "stream",
     "name": "stdout",
     "text": [
      "90\n",
      "620\n",
      "100\n"
     ]
    }
   ],
   "metadata": {}
  },
  {
   "cell_type": "code",
   "execution_count": null,
   "source": [],
   "outputs": [],
   "metadata": {}
  },
  {
   "cell_type": "code",
   "execution_count": 29,
   "source": [
    "def sumNum(num):\r\n",
    "    presum=0\r\n",
    "    for i in range(num):\r\n",
    "            sum = presum + i\r\n",
    "            print(\"current :\", i ,\"presum :\",presum, \"Sum :\",sum)\r\n",
    "            presum = i\r\n",
    "sumNum(10)\r\n"
   ],
   "outputs": [
    {
     "output_type": "stream",
     "name": "stdout",
     "text": [
      "current : 0 presum : 0 Sum : 0\n",
      "current : 1 presum : 0 Sum : 1\n",
      "current : 2 presum : 1 Sum : 3\n",
      "current : 3 presum : 2 Sum : 5\n",
      "current : 4 presum : 3 Sum : 7\n",
      "current : 5 presum : 4 Sum : 9\n",
      "current : 6 presum : 5 Sum : 11\n",
      "current : 7 presum : 6 Sum : 13\n",
      "current : 8 presum : 7 Sum : 15\n",
      "current : 9 presum : 8 Sum : 17\n"
     ]
    }
   ],
   "metadata": {}
  },
  {
   "cell_type": "code",
   "execution_count": 41,
   "source": [
    "#Exercise 3: Given a string, display only\r\n",
    "# those characters which are present at an even inddef \r\n",
    "def evennum(even):\r\n",
    "    for i in range(0, len(even)-1,2):\r\n",
    "        print(i, even[i])\r\n",
    "\r\n",
    "print(\" string index even num \")\r\n",
    "evennum(\"prashant\")"
   ],
   "outputs": [
    {
     "output_type": "stream",
     "name": "stdout",
     "text": [
      "even num string index\n",
      "0 p\n",
      "2 a\n",
      "4 h\n",
      "6 n\n"
     ]
    }
   ],
   "metadata": {}
  },
  {
   "cell_type": "code",
   "execution_count": 50,
   "source": [
    "#Given a string and an integer number n, remove characters from a string starting\r\n",
    "#  from zero up to n and return a new string\r\n",
    "def revomechar(n,name):\r\n",
    "    print(name[n::])\r\n",
    "\r\n",
    "revomechar(4,\"prashant\")   \r\n"
   ],
   "outputs": [
    {
     "output_type": "stream",
     "name": "stdout",
     "text": [
      "hant\n"
     ]
    }
   ],
   "metadata": {}
  },
  {
   "cell_type": "code",
   "execution_count": 56,
   "source": [
    "def firs_last(numlist):\r\n",
    "    print(numlist)\r\n",
    "    firstindex =numlist[0]\r\n",
    "    lastindex =numlist[-1]\r\n",
    "    if firstindex == lastindex:\r\n",
    "        print(\"they are same\")\r\n",
    "        return True\r\n",
    "    else:\r\n",
    "        print(\"they are not same false\")\r\n",
    "        return False\r\n",
    "\r\n",
    "list=[10,20,30,40,50,10,5]\r\n",
    "firs_last(list)\r\n",
    "print(\"the first and lase are\",firs_last(list))"
   ],
   "outputs": [
    {
     "output_type": "stream",
     "name": "stdout",
     "text": [
      "[10, 20, 30, 40, 50, 10, 5]\n",
      "they are not same false\n",
      "[10, 20, 30, 40, 50, 10, 5]\n",
      "they are not same false\n",
      "the first and lase are False\n"
     ]
    }
   ],
   "metadata": {}
  },
  {
   "cell_type": "code",
   "execution_count": null,
   "source": [],
   "outputs": [],
   "metadata": {}
  }
 ],
 "metadata": {
  "orig_nbformat": 4,
  "language_info": {
   "name": "python",
   "version": "3.9.6",
   "mimetype": "text/x-python",
   "codemirror_mode": {
    "name": "ipython",
    "version": 3
   },
   "pygments_lexer": "ipython3",
   "nbconvert_exporter": "python",
   "file_extension": ".py"
  },
  "kernelspec": {
   "name": "python3",
   "display_name": "Python 3.9.6 64-bit"
  },
  "interpreter": {
   "hash": "ac59ebe37160ed0dfa835113d9b8498d9f09ceb179beaac4002f036b9467c963"
  }
 },
 "nbformat": 4,
 "nbformat_minor": 2
}